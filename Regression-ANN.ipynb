{
 "cells": [
  {
   "cell_type": "code",
   "execution_count": 19,
   "metadata": {},
   "outputs": [
    {
     "data": {
      "text/plain": [
       "'2.12.0'"
      ]
     },
     "execution_count": 19,
     "metadata": {},
     "output_type": "execute_result"
    }
   ],
   "source": [
    "import pandas as pd;\n",
    "import numpy as np;\n",
    "import matplotlib.pyplot as plt\n",
    "import tensorflow as tf;\n",
    "\n",
    "tf.__version__"
   ]
  },
  {
   "cell_type": "code",
   "execution_count": 20,
   "metadata": {},
   "outputs": [
    {
     "name": "stdout",
     "output_type": "stream",
     "text": [
      "[[  14.96   41.76 1024.07   73.17]\n",
      " [  25.18   62.96 1020.04   59.08]\n",
      " [   5.11   39.4  1012.16   92.14]\n",
      " ...\n",
      " [  31.32   74.33 1012.92   36.48]\n",
      " [  24.48   69.45 1013.86   62.39]\n",
      " [  21.6    62.52 1017.23   67.87]]\n",
      "[463.26 444.37 488.56 ... 429.57 435.74 453.28]\n"
     ]
    }
   ],
   "source": [
    "dataset = pd.read_excel(\"Folds5x2_pp.xlsx\")\n",
    "X = dataset.iloc[:, :-1].values\n",
    "y = dataset.iloc[:, -1].values\n",
    "print(X)\n",
    "print(y)\n",
    "\n"
   ]
  },
  {
   "cell_type": "code",
   "execution_count": 21,
   "metadata": {},
   "outputs": [],
   "source": [
    "from sklearn.model_selection import train_test_split;\n",
    "X_train, X_test, y_train, y_test = train_test_split(X, y, test_size=0.2, random_state=0)\n"
   ]
  },
  {
   "cell_type": "code",
   "execution_count": 22,
   "metadata": {},
   "outputs": [],
   "source": [
    "ann = tf.keras.models.Sequential()\n",
    "\n",
    "ann.add(tf.keras.layers.Dense(units=6, activation=\"relu\"))\n",
    "ann.add(tf.keras.layers.Dense(units=6, activation=\"relu\"))\n",
    "\n",
    "ann.add(tf.keras.layers.Dense(units=1))"
   ]
  },
  {
   "cell_type": "code",
   "execution_count": 23,
   "metadata": {},
   "outputs": [],
   "source": [
    "ann.compile(optimizer=\"adam\", loss=\"mean_squared_error\")"
   ]
  },
  {
   "cell_type": "code",
   "execution_count": 24,
   "metadata": {},
   "outputs": [
    {
     "name": "stdout",
     "output_type": "stream",
     "text": [
      "Epoch 1/100\n",
      "240/240 [==============================] - 1s 1ms/step - loss: 39506.5195 - accuracy: 0.0000e+00\n",
      "Epoch 2/100\n",
      "240/240 [==============================] - 0s 1ms/step - loss: 293.1175 - accuracy: 0.0000e+00\n",
      "Epoch 3/100\n",
      "240/240 [==============================] - 0s 1ms/step - loss: 276.4283 - accuracy: 0.0000e+00\n",
      "Epoch 4/100\n",
      "240/240 [==============================] - 0s 1ms/step - loss: 255.5748 - accuracy: 0.0000e+00\n",
      "Epoch 5/100\n",
      "240/240 [==============================] - 0s 1ms/step - loss: 231.4509 - accuracy: 0.0000e+00\n",
      "Epoch 6/100\n",
      "240/240 [==============================] - 0s 1ms/step - loss: 206.8772 - accuracy: 0.0000e+00\n",
      "Epoch 7/100\n",
      "240/240 [==============================] - 0s 1ms/step - loss: 180.8910 - accuracy: 0.0000e+00\n",
      "Epoch 8/100\n",
      "240/240 [==============================] - 0s 1ms/step - loss: 155.4275 - accuracy: 0.0000e+00\n",
      "Epoch 9/100\n",
      "240/240 [==============================] - 0s 1ms/step - loss: 131.3846 - accuracy: 0.0000e+00\n",
      "Epoch 10/100\n",
      "240/240 [==============================] - 0s 1ms/step - loss: 109.3859 - accuracy: 0.0000e+00\n",
      "Epoch 11/100\n",
      "240/240 [==============================] - 0s 1ms/step - loss: 90.2702 - accuracy: 0.0000e+00\n",
      "Epoch 12/100\n",
      "240/240 [==============================] - 0s 1ms/step - loss: 74.6489 - accuracy: 0.0000e+00\n",
      "Epoch 13/100\n",
      "240/240 [==============================] - 0s 1ms/step - loss: 62.3403 - accuracy: 0.0000e+00\n",
      "Epoch 14/100\n",
      "240/240 [==============================] - 0s 1ms/step - loss: 53.4765 - accuracy: 0.0000e+00\n",
      "Epoch 15/100\n",
      "240/240 [==============================] - 0s 1ms/step - loss: 47.4143 - accuracy: 0.0000e+00\n",
      "Epoch 16/100\n",
      "240/240 [==============================] - 0s 1ms/step - loss: 43.2153 - accuracy: 0.0000e+00\n",
      "Epoch 17/100\n",
      "240/240 [==============================] - 0s 1ms/step - loss: 40.5686 - accuracy: 0.0000e+00\n",
      "Epoch 18/100\n",
      "240/240 [==============================] - 0s 1ms/step - loss: 38.5277 - accuracy: 0.0000e+00\n",
      "Epoch 19/100\n",
      "240/240 [==============================] - 0s 1ms/step - loss: 37.0474 - accuracy: 0.0000e+00\n",
      "Epoch 20/100\n",
      "240/240 [==============================] - 0s 1ms/step - loss: 35.9850 - accuracy: 0.0000e+00\n",
      "Epoch 21/100\n",
      "240/240 [==============================] - 0s 1ms/step - loss: 34.7937 - accuracy: 0.0000e+00\n",
      "Epoch 22/100\n",
      "240/240 [==============================] - 0s 1ms/step - loss: 34.0420 - accuracy: 0.0000e+00\n",
      "Epoch 23/100\n",
      "240/240 [==============================] - 0s 1ms/step - loss: 33.0098 - accuracy: 0.0000e+00\n",
      "Epoch 24/100\n",
      "240/240 [==============================] - 0s 1ms/step - loss: 32.4143 - accuracy: 0.0000e+00\n",
      "Epoch 25/100\n",
      "240/240 [==============================] - 0s 1ms/step - loss: 32.2340 - accuracy: 0.0000e+00\n",
      "Epoch 26/100\n",
      "240/240 [==============================] - 0s 1ms/step - loss: 31.6539 - accuracy: 0.0000e+00\n",
      "Epoch 27/100\n",
      "240/240 [==============================] - 0s 1ms/step - loss: 31.1142 - accuracy: 0.0000e+00\n",
      "Epoch 28/100\n",
      "240/240 [==============================] - 0s 1ms/step - loss: 30.6403 - accuracy: 0.0000e+00\n",
      "Epoch 29/100\n",
      "240/240 [==============================] - 0s 1ms/step - loss: 30.2564 - accuracy: 0.0000e+00\n",
      "Epoch 30/100\n",
      "240/240 [==============================] - 0s 1ms/step - loss: 30.7408 - accuracy: 0.0000e+00\n",
      "Epoch 31/100\n",
      "240/240 [==============================] - 0s 1ms/step - loss: 29.4074 - accuracy: 0.0000e+00\n",
      "Epoch 32/100\n",
      "240/240 [==============================] - 0s 1ms/step - loss: 29.8859 - accuracy: 0.0000e+00\n",
      "Epoch 33/100\n",
      "240/240 [==============================] - 0s 1ms/step - loss: 28.8391 - accuracy: 0.0000e+00\n",
      "Epoch 34/100\n",
      "240/240 [==============================] - 0s 1ms/step - loss: 28.8989 - accuracy: 0.0000e+00\n",
      "Epoch 35/100\n",
      "240/240 [==============================] - 0s 1ms/step - loss: 29.3055 - accuracy: 0.0000e+00\n",
      "Epoch 36/100\n",
      "240/240 [==============================] - 0s 1ms/step - loss: 28.5214 - accuracy: 0.0000e+00\n",
      "Epoch 37/100\n",
      "240/240 [==============================] - 0s 1ms/step - loss: 28.9123 - accuracy: 0.0000e+00\n",
      "Epoch 38/100\n",
      "240/240 [==============================] - 0s 1ms/step - loss: 27.5387 - accuracy: 0.0000e+00\n",
      "Epoch 39/100\n",
      "240/240 [==============================] - 0s 1ms/step - loss: 27.7582 - accuracy: 0.0000e+00\n",
      "Epoch 40/100\n",
      "240/240 [==============================] - 0s 1ms/step - loss: 27.8977 - accuracy: 0.0000e+00\n",
      "Epoch 41/100\n",
      "240/240 [==============================] - 0s 1ms/step - loss: 27.6885 - accuracy: 0.0000e+00\n",
      "Epoch 42/100\n",
      "240/240 [==============================] - 0s 1ms/step - loss: 27.3586 - accuracy: 0.0000e+00\n",
      "Epoch 43/100\n",
      "240/240 [==============================] - 0s 1ms/step - loss: 27.3000 - accuracy: 0.0000e+00\n",
      "Epoch 44/100\n",
      "240/240 [==============================] - 0s 1ms/step - loss: 28.0437 - accuracy: 0.0000e+00\n",
      "Epoch 45/100\n",
      "240/240 [==============================] - 0s 1ms/step - loss: 27.5496 - accuracy: 0.0000e+00\n",
      "Epoch 46/100\n",
      "240/240 [==============================] - 0s 1ms/step - loss: 27.7981 - accuracy: 0.0000e+00\n",
      "Epoch 47/100\n",
      "240/240 [==============================] - 0s 1ms/step - loss: 29.0480 - accuracy: 0.0000e+00\n",
      "Epoch 48/100\n",
      "240/240 [==============================] - 0s 1ms/step - loss: 27.4748 - accuracy: 0.0000e+00\n",
      "Epoch 49/100\n",
      "240/240 [==============================] - 0s 1ms/step - loss: 27.7614 - accuracy: 0.0000e+00\n",
      "Epoch 50/100\n",
      "240/240 [==============================] - 0s 1ms/step - loss: 27.2980 - accuracy: 0.0000e+00\n",
      "Epoch 51/100\n",
      "240/240 [==============================] - 0s 1ms/step - loss: 27.5662 - accuracy: 0.0000e+00\n",
      "Epoch 52/100\n",
      "240/240 [==============================] - 0s 1ms/step - loss: 27.3526 - accuracy: 0.0000e+00\n",
      "Epoch 53/100\n",
      "240/240 [==============================] - 0s 1ms/step - loss: 27.7346 - accuracy: 0.0000e+00\n",
      "Epoch 54/100\n",
      "240/240 [==============================] - 0s 1ms/step - loss: 27.0048 - accuracy: 0.0000e+00\n",
      "Epoch 55/100\n",
      "240/240 [==============================] - 0s 1ms/step - loss: 27.1410 - accuracy: 0.0000e+00\n",
      "Epoch 56/100\n",
      "240/240 [==============================] - 0s 1ms/step - loss: 28.9865 - accuracy: 0.0000e+00\n",
      "Epoch 57/100\n",
      "240/240 [==============================] - 0s 1ms/step - loss: 27.5325 - accuracy: 0.0000e+00\n",
      "Epoch 58/100\n",
      "240/240 [==============================] - 0s 1ms/step - loss: 27.3315 - accuracy: 0.0000e+00\n",
      "Epoch 59/100\n",
      "240/240 [==============================] - 0s 1ms/step - loss: 27.8757 - accuracy: 0.0000e+00\n",
      "Epoch 60/100\n",
      "240/240 [==============================] - 0s 1ms/step - loss: 27.1017 - accuracy: 0.0000e+00\n",
      "Epoch 61/100\n",
      "240/240 [==============================] - 0s 1ms/step - loss: 26.9019 - accuracy: 0.0000e+00\n",
      "Epoch 62/100\n",
      "240/240 [==============================] - 0s 1ms/step - loss: 27.4026 - accuracy: 0.0000e+00\n",
      "Epoch 63/100\n",
      "240/240 [==============================] - 0s 1ms/step - loss: 27.1897 - accuracy: 0.0000e+00\n",
      "Epoch 64/100\n",
      "240/240 [==============================] - 0s 1ms/step - loss: 26.6947 - accuracy: 0.0000e+00\n",
      "Epoch 65/100\n",
      "240/240 [==============================] - 0s 1ms/step - loss: 27.1467 - accuracy: 0.0000e+00\n",
      "Epoch 66/100\n",
      "240/240 [==============================] - 0s 1ms/step - loss: 27.0975 - accuracy: 0.0000e+00\n",
      "Epoch 67/100\n",
      "240/240 [==============================] - 0s 1ms/step - loss: 27.8296 - accuracy: 0.0000e+00\n",
      "Epoch 68/100\n",
      "240/240 [==============================] - 0s 1ms/step - loss: 27.5528 - accuracy: 0.0000e+00\n",
      "Epoch 69/100\n",
      "240/240 [==============================] - 0s 1ms/step - loss: 26.9321 - accuracy: 0.0000e+00\n",
      "Epoch 70/100\n",
      "240/240 [==============================] - 0s 1ms/step - loss: 26.7638 - accuracy: 0.0000e+00\n",
      "Epoch 71/100\n",
      "240/240 [==============================] - 0s 1ms/step - loss: 27.8870 - accuracy: 0.0000e+00\n",
      "Epoch 72/100\n",
      "240/240 [==============================] - 0s 1ms/step - loss: 26.9748 - accuracy: 0.0000e+00\n",
      "Epoch 73/100\n",
      "240/240 [==============================] - 0s 1ms/step - loss: 26.7988 - accuracy: 0.0000e+00\n",
      "Epoch 74/100\n",
      "240/240 [==============================] - 0s 1ms/step - loss: 27.9165 - accuracy: 0.0000e+00\n",
      "Epoch 75/100\n",
      "240/240 [==============================] - 0s 1ms/step - loss: 27.6605 - accuracy: 0.0000e+00\n",
      "Epoch 76/100\n",
      "240/240 [==============================] - 0s 1ms/step - loss: 27.3515 - accuracy: 0.0000e+00\n",
      "Epoch 77/100\n",
      "240/240 [==============================] - 0s 1ms/step - loss: 27.0220 - accuracy: 0.0000e+00\n",
      "Epoch 78/100\n",
      "240/240 [==============================] - 0s 1ms/step - loss: 26.8439 - accuracy: 0.0000e+00\n",
      "Epoch 79/100\n",
      "240/240 [==============================] - 0s 1ms/step - loss: 28.3635 - accuracy: 0.0000e+00\n",
      "Epoch 80/100\n",
      "240/240 [==============================] - 0s 1ms/step - loss: 27.8210 - accuracy: 0.0000e+00\n",
      "Epoch 81/100\n",
      "240/240 [==============================] - 0s 1ms/step - loss: 27.1867 - accuracy: 0.0000e+00\n",
      "Epoch 82/100\n",
      "240/240 [==============================] - 0s 1ms/step - loss: 26.9828 - accuracy: 0.0000e+00\n",
      "Epoch 83/100\n",
      "240/240 [==============================] - 0s 1ms/step - loss: 27.5666 - accuracy: 0.0000e+00\n",
      "Epoch 84/100\n",
      "240/240 [==============================] - 0s 1ms/step - loss: 26.9332 - accuracy: 0.0000e+00\n",
      "Epoch 85/100\n",
      "240/240 [==============================] - 0s 1ms/step - loss: 27.2186 - accuracy: 0.0000e+00\n",
      "Epoch 86/100\n",
      "240/240 [==============================] - 0s 1ms/step - loss: 26.8558 - accuracy: 0.0000e+00\n",
      "Epoch 87/100\n",
      "240/240 [==============================] - 0s 1ms/step - loss: 26.7309 - accuracy: 0.0000e+00\n",
      "Epoch 88/100\n",
      "240/240 [==============================] - 0s 1ms/step - loss: 26.6806 - accuracy: 0.0000e+00\n",
      "Epoch 89/100\n",
      "240/240 [==============================] - 0s 1ms/step - loss: 27.4715 - accuracy: 0.0000e+00\n",
      "Epoch 90/100\n",
      "240/240 [==============================] - 0s 1ms/step - loss: 27.1227 - accuracy: 0.0000e+00\n",
      "Epoch 91/100\n",
      "240/240 [==============================] - 0s 1ms/step - loss: 28.0622 - accuracy: 0.0000e+00\n",
      "Epoch 92/100\n",
      "240/240 [==============================] - 0s 1ms/step - loss: 27.3777 - accuracy: 0.0000e+00\n",
      "Epoch 93/100\n",
      "240/240 [==============================] - 0s 1ms/step - loss: 26.9928 - accuracy: 0.0000e+00\n",
      "Epoch 94/100\n",
      "240/240 [==============================] - 0s 1ms/step - loss: 27.1320 - accuracy: 0.0000e+00\n",
      "Epoch 95/100\n",
      "240/240 [==============================] - 0s 1ms/step - loss: 27.1604 - accuracy: 0.0000e+00\n",
      "Epoch 96/100\n",
      "240/240 [==============================] - 0s 1ms/step - loss: 26.6664 - accuracy: 0.0000e+00\n",
      "Epoch 97/100\n",
      "240/240 [==============================] - 0s 1ms/step - loss: 29.2583 - accuracy: 0.0000e+00\n",
      "Epoch 98/100\n",
      "240/240 [==============================] - 0s 1ms/step - loss: 27.4137 - accuracy: 0.0000e+00\n",
      "Epoch 99/100\n",
      "240/240 [==============================] - 0s 1ms/step - loss: 26.7933 - accuracy: 0.0000e+00\n",
      "Epoch 100/100\n",
      "240/240 [==============================] - 0s 1ms/step - loss: 27.1221 - accuracy: 0.0000e+00\n"
     ]
    },
    {
     "data": {
      "text/plain": [
       "<keras.callbacks.History at 0x7fef7961fb20>"
      ]
     },
     "execution_count": 24,
     "metadata": {},
     "output_type": "execute_result"
    }
   ],
   "source": [
    "ann.fit(X_train, y_train, batch_size=32, epochs=100)"
   ]
  },
  {
   "cell_type": "code",
   "execution_count": 26,
   "metadata": {},
   "outputs": [
    {
     "name": "stdout",
     "output_type": "stream",
     "text": [
      "60/60 [==============================] - 0s 874us/step\n"
     ]
    },
    {
     "data": {
      "text/plain": [
       "(array([[431.04],\n",
       "        [462.01],\n",
       "        [465.51],\n",
       "        ...,\n",
       "        [472.73],\n",
       "        [439.55],\n",
       "        [458.73]], dtype=float32),\n",
       " array([[431.23],\n",
       "        [460.01],\n",
       "        [461.14],\n",
       "        ...,\n",
       "        [473.26],\n",
       "        [438.  ],\n",
       "        [463.28]]))"
      ]
     },
     "execution_count": 26,
     "metadata": {},
     "output_type": "execute_result"
    }
   ],
   "source": [
    "y_pred = ann.predict(X_test)\n",
    "np.set_printoptions(precision=2)\n",
    "\n",
    "y_pred.reshape(len(y_pred),1), y_test.reshape(len(y_test), 1)"
   ]
  }
 ],
 "metadata": {
  "kernelspec": {
   "display_name": "base",
   "language": "python",
   "name": "python3"
  },
  "language_info": {
   "codemirror_mode": {
    "name": "ipython",
    "version": 3
   },
   "file_extension": ".py",
   "mimetype": "text/x-python",
   "name": "python",
   "nbconvert_exporter": "python",
   "pygments_lexer": "ipython3",
   "version": "3.10.9"
  }
 },
 "nbformat": 4,
 "nbformat_minor": 2
}
