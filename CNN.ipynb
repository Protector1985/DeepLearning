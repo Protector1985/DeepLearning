{
 "cells": [
  {
   "cell_type": "code",
   "execution_count": 7,
   "metadata": {},
   "outputs": [
    {
     "data": {
      "text/plain": [
       "'2.15.0'"
      ]
     },
     "execution_count": 7,
     "metadata": {},
     "output_type": "execute_result"
    }
   ],
   "source": [
    "import tensorflow as tf;\n",
    "from keras.preprocessing.image import ImageDataGenerator;\n",
    "\n",
    "tf.__version__"
   ]
  },
  {
   "cell_type": "markdown",
   "metadata": {},
   "source": [
    "Part1 - Data Pre-Processing"
   ]
  },
  {
   "cell_type": "code",
   "execution_count": 8,
   "metadata": {},
   "outputs": [
    {
     "name": "stdout",
     "output_type": "stream",
     "text": [
      "Found 8000 images belonging to 2 classes.\n"
     ]
    }
   ],
   "source": [
    "#Preprocess training set\n",
    "\n",
    "#init inmage augmentation engine.\n",
    "train_datagen = ImageDataGenerator(\n",
    "    rescale=1./255,#feature scaling\n",
    "    shear_range=0.2,#augumentation\n",
    "    zoom_range=0.2,#augumentation\n",
    "    horizontal_flip=True#augumentation\n",
    ")\n",
    "\n",
    "training_set = train_datagen.flow_from_directory(\n",
    "    'training_set', #dir folder\n",
    "    target_size=(64,64),#standard 150 reduce size for speed.\n",
    "    batch_size=32,\n",
    "    class_mode='binary'\n",
    ")"
   ]
  },
  {
   "cell_type": "code",
   "execution_count": 9,
   "metadata": {},
   "outputs": [
    {
     "name": "stdout",
     "output_type": "stream",
     "text": [
      "Found 2000 images belonging to 2 classes.\n"
     ]
    }
   ],
   "source": [
    "#test set is ONLY rescaled to above value.\n",
    "test_datagen = ImageDataGenerator(rescale=1./255)\n",
    "\n",
    "test_set = test_datagen.flow_from_directory(\n",
    "    'test_set', #dir folder\n",
    "    target_size=(64,64),#same format as above\n",
    "    batch_size=32,\n",
    "    class_mode='binary'\n",
    ")"
   ]
  },
  {
   "cell_type": "markdown",
   "metadata": {},
   "source": [
    "Build the CNN"
   ]
  },
  {
   "cell_type": "code",
   "execution_count": 10,
   "metadata": {},
   "outputs": [],
   "source": [
    "\n",
    "#Init the CNN\n",
    "\n",
    "cnn = tf.keras.Sequential()\n",
    "\n",
    "#---Convolution 1---\n",
    "#filters amount of Kernel klusters, kernel - amount of kernels in the cluster 3x3 below, \n",
    "# input shape has to correlate to above size. Last index in input shape arr,  3 for rgb 1 for grey\n",
    "cnn.add(tf.keras.layers.Conv2D(filters=32, kernel_size=3, activation=\"relu\", input_shape=[64, 64, 3]))\n",
    "\n",
    "#---Pooling----\n",
    "#pool size similar to filter above but this time on the feature map.\n",
    "#stride - should correlate to pool size as the feature map is scanned.\n",
    "cnn.add(tf.keras.layers.MaxPool2D(pool_size=2, strides=2))\n",
    "\n",
    "#---Convolution 2---\n",
    "#next conv and pooling step (always pool after conv). Remove input shape from second onward\n",
    "cnn.add(tf.keras.layers.Conv2D(filters=32, kernel_size=3, activation=\"relu\"))\n",
    "cnn.add(tf.keras.layers.MaxPool2D(pool_size=2, strides=2))\n",
    "\n",
    "#----Flattening----\n",
    "#once convolutions are done, the matrix is flattended to be fed into the ANN\n",
    "cnn.add(tf.keras.layers.Flatten())\n",
    "\n",
    "# ----Full Connection - add regular ANN-----\n",
    "#hidden layer\n",
    "cnn.add(tf.keras.layers.Dense(units=128, activation=\"relu\"))\n",
    "\n",
    "#output layer\n",
    "cnn.add(tf.keras.layers.Dense(units=1, activation=\"sigmoid\"))\n",
    "\n",
    "\n"
   ]
  },
  {
   "cell_type": "code",
   "execution_count": 11,
   "metadata": {},
   "outputs": [
    {
     "name": "stdout",
     "output_type": "stream",
     "text": [
      "Epoch 1/25\n",
      "250/250 [==============================] - 50s 196ms/step - loss: 0.6523 - accuracy: 0.6049 - val_loss: 0.6764 - val_accuracy: 0.6030\n",
      "Epoch 2/25\n",
      "250/250 [==============================] - 46s 183ms/step - loss: 0.5794 - accuracy: 0.6940 - val_loss: 0.5439 - val_accuracy: 0.7200\n",
      "Epoch 3/25\n",
      "250/250 [==============================] - 46s 185ms/step - loss: 0.5506 - accuracy: 0.7207 - val_loss: 0.5166 - val_accuracy: 0.7545\n",
      "Epoch 4/25\n",
      "250/250 [==============================] - 48s 191ms/step - loss: 0.5178 - accuracy: 0.7401 - val_loss: 0.5019 - val_accuracy: 0.7565\n",
      "Epoch 5/25\n",
      "250/250 [==============================] - 48s 192ms/step - loss: 0.4897 - accuracy: 0.7586 - val_loss: 0.4975 - val_accuracy: 0.7605\n",
      "Epoch 6/25\n",
      "250/250 [==============================] - 50s 199ms/step - loss: 0.4703 - accuracy: 0.7709 - val_loss: 0.5231 - val_accuracy: 0.7505\n",
      "Epoch 7/25\n",
      "250/250 [==============================] - 49s 194ms/step - loss: 0.4573 - accuracy: 0.7820 - val_loss: 0.4688 - val_accuracy: 0.7820\n",
      "Epoch 8/25\n",
      "250/250 [==============================] - 48s 192ms/step - loss: 0.4478 - accuracy: 0.7865 - val_loss: 0.4710 - val_accuracy: 0.7820\n",
      "Epoch 9/25\n",
      "250/250 [==============================] - 48s 193ms/step - loss: 0.4286 - accuracy: 0.7987 - val_loss: 0.4525 - val_accuracy: 0.7915\n",
      "Epoch 10/25\n",
      "250/250 [==============================] - 49s 197ms/step - loss: 0.4174 - accuracy: 0.8014 - val_loss: 0.4652 - val_accuracy: 0.7840\n",
      "Epoch 11/25\n",
      "250/250 [==============================] - 46s 186ms/step - loss: 0.4076 - accuracy: 0.8124 - val_loss: 0.4450 - val_accuracy: 0.7955\n",
      "Epoch 12/25\n",
      "250/250 [==============================] - 47s 186ms/step - loss: 0.3923 - accuracy: 0.8181 - val_loss: 0.4734 - val_accuracy: 0.7865\n",
      "Epoch 13/25\n",
      "250/250 [==============================] - 48s 193ms/step - loss: 0.3835 - accuracy: 0.8261 - val_loss: 0.4431 - val_accuracy: 0.7960\n",
      "Epoch 14/25\n",
      "250/250 [==============================] - 48s 191ms/step - loss: 0.3789 - accuracy: 0.8274 - val_loss: 0.4446 - val_accuracy: 0.8030\n",
      "Epoch 15/25\n",
      "250/250 [==============================] - 49s 196ms/step - loss: 0.3685 - accuracy: 0.8330 - val_loss: 0.4640 - val_accuracy: 0.7855\n",
      "Epoch 16/25\n",
      "250/250 [==============================] - 48s 192ms/step - loss: 0.3524 - accuracy: 0.8420 - val_loss: 0.4556 - val_accuracy: 0.7990\n",
      "Epoch 17/25\n",
      "250/250 [==============================] - 49s 197ms/step - loss: 0.3377 - accuracy: 0.8503 - val_loss: 0.5233 - val_accuracy: 0.7845\n",
      "Epoch 18/25\n",
      "250/250 [==============================] - 49s 195ms/step - loss: 0.3314 - accuracy: 0.8505 - val_loss: 0.4735 - val_accuracy: 0.8020\n",
      "Epoch 19/25\n",
      "250/250 [==============================] - 49s 195ms/step - loss: 0.3210 - accuracy: 0.8577 - val_loss: 0.5082 - val_accuracy: 0.7885\n",
      "Epoch 20/25\n",
      "250/250 [==============================] - 48s 192ms/step - loss: 0.3131 - accuracy: 0.8658 - val_loss: 0.5035 - val_accuracy: 0.7780\n",
      "Epoch 21/25\n",
      "250/250 [==============================] - 47s 189ms/step - loss: 0.2980 - accuracy: 0.8684 - val_loss: 0.5663 - val_accuracy: 0.7750\n",
      "Epoch 22/25\n",
      "250/250 [==============================] - 49s 197ms/step - loss: 0.2843 - accuracy: 0.8760 - val_loss: 0.5047 - val_accuracy: 0.8025\n",
      "Epoch 23/25\n",
      "250/250 [==============================] - 49s 197ms/step - loss: 0.2892 - accuracy: 0.8735 - val_loss: 0.4978 - val_accuracy: 0.8045\n",
      "Epoch 24/25\n",
      "250/250 [==============================] - 47s 189ms/step - loss: 0.2726 - accuracy: 0.8840 - val_loss: 0.5202 - val_accuracy: 0.8060\n",
      "Epoch 25/25\n",
      "250/250 [==============================] - 49s 198ms/step - loss: 0.2490 - accuracy: 0.8954 - val_loss: 0.5092 - val_accuracy: 0.7945\n"
     ]
    },
    {
     "data": {
      "text/plain": [
       "<keras.src.callbacks.History at 0x7fc02a99fbb0>"
      ]
     },
     "execution_count": 11,
     "metadata": {},
     "output_type": "execute_result"
    }
   ],
   "source": [
    "#compile the CNN\n",
    "#optimizer adam performs stochastic gradient descent when updating the weight via backpropagation\n",
    "cnn.compile(optimizer=\"adam\", loss=\"binary_crossentropy\", metrics=[\"accuracy\"])\n",
    "\n",
    "#training the CNN\n",
    "cnn.fit(x=training_set, validation_data=test_set, epochs=25)"
   ]
  },
  {
   "cell_type": "code",
   "execution_count": 18,
   "metadata": {},
   "outputs": [
    {
     "name": "stdout",
     "output_type": "stream",
     "text": [
      "1/1 [==============================] - 0s 29ms/step\n",
      "cat\n"
     ]
    }
   ],
   "source": [
    "import numpy as np;\n",
    "from keras.utils import load_img, img_to_array;\n",
    "\n",
    "#load the test image\n",
    "test_image = load_img('single_prediction/cat_or_dog_2.jpg', target_size=(64,64))\n",
    "\n",
    "#turn loaded image into 2d numpy array\n",
    "test_image = img_to_array(test_image)\n",
    "\n",
    "#We created a batch of 32 images above so we have an extra dimension in the array\n",
    "#so we have to turn the single image above into a batch - by adding an extra dimension\n",
    "#the batch is the first dimension since it contains the other arrays so axis is 0\n",
    "test_image = np.expand_dims(test_image, axis=0)\n",
    "\n",
    "#predict the performance of the trained array - the image has to be normalized to 255\n",
    "result=cnn.predict(test_image/255.0)\n",
    "\n",
    "#the output will be binary so how do we know if 0/1 is cat or dog?\n",
    "#we call the training_set and call the class_indices.\n",
    "\n",
    "#[0] is the batch then[0] is the element of the prediction\n",
    "if result[0][0] > 0.5:\n",
    "    prediction = \"dog\"\n",
    "else:\n",
    "    prediction = \"cat\"\n",
    "\n",
    "print(prediction)\n",
    "\n"
   ]
  }
 ],
 "metadata": {
  "kernelspec": {
   "display_name": "base",
   "language": "python",
   "name": "python3"
  },
  "language_info": {
   "codemirror_mode": {
    "name": "ipython",
    "version": 3
   },
   "file_extension": ".py",
   "mimetype": "text/x-python",
   "name": "python",
   "nbconvert_exporter": "python",
   "pygments_lexer": "ipython3",
   "version": "3.10.9"
  }
 },
 "nbformat": 4,
 "nbformat_minor": 2
}
